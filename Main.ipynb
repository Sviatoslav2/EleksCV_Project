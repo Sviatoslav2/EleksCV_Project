{
 "cells": [
  {
   "cell_type": "code",
   "execution_count": 1,
   "metadata": {},
   "outputs": [
    {
     "name": "stderr",
     "output_type": "stream",
     "text": [
      "Using TensorFlow backend.\n",
      "C:\\Users\\Admin\\Anaconda3\\lib\\site-packages\\classification_models\\resnext\\__init__.py:4: UserWarning: Current ResNext models are deprecated, use keras.applications ResNeXt models\n",
      "  warnings.warn('Current ResNext models are deprecated, '\n"
     ]
    }
   ],
   "source": [
    "import os\n",
    "import numpy as np\n",
    "import pandas as pd\n",
    "from PIL import Image\n",
    "import tensorflow as tf\n",
    "from segmentation_models import Linknet\n",
    "from osgeo import gdal\n",
    "import geoio\n",
    "import utm\n",
    "\n",
    "import matplotlib.pyplot as plt\n",
    "\n",
    "import tif_read\n",
    "import preprocess\n",
    "import point_sumple\n",
    "import pointsOfFild\n",
    "\n",
    "from keras.callbacks import EarlyStopping, ModelCheckpoint, ReduceLROnPlateau\n",
    "from keras.models import *\n",
    "from keras import backend as K\n",
    "from keras.models import Model\n",
    "from keras.optimizers import Adam\n",
    "import keras_metrics\n",
    "from keras import backend\n",
    "\n",
    "from tensorflow.keras.callbacks import EarlyStopping\n",
    "from tensorflow.keras.callbacks import ReduceLROnPlateau\n",
    "from tensorflow.keras.callbacks import ModelCheckpoint\n",
    "\n",
    "from sklearn.model_selection import train_test_split\n",
    "\n",
    "%matplotlib inline \n",
    "%load_ext memory_profiler"
   ]
  },
  {
   "cell_type": "markdown",
   "metadata": {},
   "source": [
    "## Comput parameters"
   ]
  },
  {
   "cell_type": "code",
   "execution_count": 2,
   "metadata": {},
   "outputs": [
    {
     "name": "stdout",
     "output_type": "stream",
     "text": [
      "Done!\n"
     ]
    }
   ],
   "source": [
    "main_path = os.getcwd()\n",
    "\n",
    "number_paths = 3\n",
    "\n",
    "img_size = 10980 \n",
    "\n",
    "sample_size = 160\n",
    "\n",
    "slice_step = 10\n",
    "\n",
    "order_of_chanel = ['B02.tif','B03.tif','B04.tif','B05.tif'] \n",
    "\n",
    "number_of_chanels = len(order_of_chanel) * number_paths\n",
    "\n",
    "sumpel = 20\n",
    "\n",
    "num_epoch = 100\n",
    "\n",
    "mask_path = main_path + '\\\\Data\\\\' + 'out.tif'\n",
    "    \n",
    "number_chanels = number_paths * len(order_of_chanel)\n",
    "\n",
    "print(\"Done!\")"
   ]
  },
  {
   "cell_type": "markdown",
   "metadata": {},
   "source": [
    "## Data preparing"
   ]
  },
  {
   "cell_type": "code",
   "execution_count": 3,
   "metadata": {},
   "outputs": [
    {
     "name": "stdout",
     "output_type": "stream",
     "text": [
      "peak memory: 250.93 MiB, increment: 0.06 MiB\n",
      "peak memory: 250.93 MiB, increment: 0.00 MiB\n",
      "peak memory: 250.93 MiB, increment: 0.00 MiB\n",
      "peak memory: 250.93 MiB, increment: 0.01 MiB\n",
      "peak memory: 250.93 MiB, increment: 0.00 MiB\n"
     ]
    }
   ],
   "source": [
    "%memit dct_data1 = tif_read.get_dirs(main_path+\"\\Data\"+\"\\TIF_S2A_MSIL1C_20180515T103021_N0206_R108_T32UNG_20180515T124152.SAFE\\\\\")\n",
    "%memit dct_data2 = tif_read.get_dirs(main_path+\"\\Data\"+\"\\TIF_S2A_MSIL1C_20180508T104031_N0206_R008_T32UNG_20180508T175127.SAFE\\\\\")\n",
    "%memit dct_data3 = tif_read.get_dirs(main_path+\"\\Data\"+\"\\TIF_S2B_MSIL1C_20180530T103019_N0206_R108_T32UNG_20180530T123402.SAFE\\\\\")\n",
    "%memit dct_data_mask = {main_path+\"\\Data\"+'\\out.tif':'out.tif' }\n",
    "%memit lst_path = point_sumple.get_channels_path(dct_data1, order_of_chanel) + point_sumple.get_channels_path(dct_data2, order_of_chanel) + point_sumple.get_channels_path(dct_data3, order_of_chanel)"
   ]
  },
  {
   "cell_type": "code",
   "execution_count": 4,
   "metadata": {},
   "outputs": [
    {
     "name": "stdout",
     "output_type": "stream",
     "text": [
      "True\n"
     ]
    }
   ],
   "source": [
    "dct_data1 = tif_read.get_dct_with_names(dct_data1, order_of_chanel)\n",
    "dct_data2 = tif_read.get_dct_with_names(dct_data2, order_of_chanel)\n",
    "dct_data3 = tif_read.get_dct_with_names(dct_data3, order_of_chanel)\n",
    "print(len(dct_data3) == 4)"
   ]
  },
  {
   "cell_type": "code",
   "execution_count": null,
   "metadata": {},
   "outputs": [],
   "source": [
    "%memit dct1 = {key:tif_read.slice_data(tif_read.get_img_array(key),sample_size,sample_size, slice_step) for (key,value) in dct_data1.items()}\n",
    "print(\"Done!\")"
   ]
  },
  {
   "cell_type": "code",
   "execution_count": null,
   "metadata": {},
   "outputs": [],
   "source": [
    "%memit dct2 = {key:tif_read.slice_data(tif_read.get_img_array(key),sample_size,sample_size, slice_step) for (key,value) in dct_data2.items()}\n",
    "print(\"Done!\")"
   ]
  },
  {
   "cell_type": "code",
   "execution_count": null,
   "metadata": {},
   "outputs": [],
   "source": [
    "%memit dct3 = {key:tif_read.slice_data(tif_read.get_img_array(key),sample_size,sample_size, slice_step) for (key,value) in dct_data3.items()}\n",
    "print(\"Done!\")"
   ]
  },
  {
   "cell_type": "code",
   "execution_count": null,
   "metadata": {},
   "outputs": [],
   "source": [
    "%memit dct_mask = {key:tif_read.slice_data(tif_read.get_img_mask_array(key),sample_size,sample_size, slice_step) for (key,value) in dct_data_mask.items()}\n",
    "print(\"Done!\")"
   ]
  },
  {
   "cell_type": "code",
   "execution_count": null,
   "metadata": {},
   "outputs": [],
   "source": [
    "channels1 = preprocess.get_channels(dct1, order_of_chanel)\n",
    "del dct1\n",
    "channels2 = preprocess.get_channels(dct2, order_of_chanel)\n",
    "del dct2\n",
    "channels3 = preprocess.get_channels(dct3, order_of_chanel)\n",
    "del dct3\n",
    "number_sample = len(channels1[0])\n",
    "\n",
    "print(number_sample)\n",
    "print(number_sample)\n",
    "print(\"Done!\")"
   ]
  },
  {
   "cell_type": "code",
   "execution_count": null,
   "metadata": {},
   "outputs": [],
   "source": [
    "lst_channels = channels1 + channels2 + channels3 \n",
    "del channels1\n",
    "del channels2\n",
    "del channels3\n",
    "print(len(lst_channels))\n",
    "print(\"Done!\")"
   ]
  },
  {
   "cell_type": "code",
   "execution_count": null,
   "metadata": {},
   "outputs": [],
   "source": [
    "#%memit samples = preprocess.get_samples(lst_channels, 0, 100)"
   ]
  },
  {
   "cell_type": "code",
   "execution_count": null,
   "metadata": {},
   "outputs": [],
   "source": [
    "masks_lst = preprocess.get_masks(dct_mask)\n",
    "#%memit masks = preprocess.masks_thensor(preprocess.get_masks(dct_mask)[0:100])"
   ]
  },
  {
   "cell_type": "code",
   "execution_count": null,
   "metadata": {},
   "outputs": [],
   "source": [
    "#X = np.array(samples)\n",
    "#Y = np.array(masks)\n",
    "\n",
    "#print(\"number_sample == len(X) == len(Y) == \",number_sample == len(X) == len(Y))\n",
    "\n",
    "#X_train, X_test, y_train, y_test = train_test_split(X, Y, test_size=0.20, random_state=42)\n",
    "#print(\"Done!\")"
   ]
  },
  {
   "cell_type": "markdown",
   "metadata": {},
   "source": [
    "## Check data"
   ]
  },
  {
   "cell_type": "code",
   "execution_count": null,
   "metadata": {},
   "outputs": [],
   "source": [
    "sumpel = 66\n",
    "plt.imshow(X_train[sumpel][:, :, 0])\n",
    "plt.show()\n",
    "plt.imshow(X_train[sumpel][:, :, 1])\n",
    "plt.show()\n",
    "plt.imshow(X_train[sumpel][:, :, 2])\n",
    "plt.show()\n",
    "plt.imshow(X_train[sumpel][:, :, 3])\n",
    "plt.show()\n",
    "plt.imshow(X_train[sumpel][:, :, 4])\n",
    "plt.show()\n",
    "plt.imshow(X_train[sumpel][:, :, 5])\n",
    "plt.show()\n",
    "plt.imshow(X_train[sumpel][:, :, 6])\n",
    "plt.show()\n",
    "plt.imshow(X_train[sumpel][:, :, 7])\n",
    "plt.show()\n",
    "###########################################\n",
    "###########################################\n",
    "###########################################\n",
    "plt.imshow(X_train[sumpel][:, :, 8])\n",
    "plt.show()\n",
    "plt.imshow(X_train[sumpel][:, :, 9])\n",
    "plt.show()\n",
    "plt.imshow(X_train[sumpel][:, :, 10])\n",
    "plt.show()\n",
    "plt.imshow(X_train[sumpel][:, :, 11])\n",
    "plt.show()"
   ]
  },
  {
   "cell_type": "code",
   "execution_count": null,
   "metadata": {},
   "outputs": [],
   "source": [
    "plt.imshow(y_train[sumpel][:, :, 0])"
   ]
  },
  {
   "cell_type": "markdown",
   "metadata": {},
   "source": [
    "## Model bilding"
   ]
  },
  {
   "cell_type": "code",
   "execution_count": 5,
   "metadata": {},
   "outputs": [
    {
     "name": "stdout",
     "output_type": "stream",
     "text": [
      "WARNING:tensorflow:From C:\\Users\\Admin\\Anaconda3\\lib\\site-packages\\tensorflow\\python\\framework\\op_def_library.py:263: colocate_with (from tensorflow.python.framework.ops) is deprecated and will be removed in a future version.\n",
      "Instructions for updating:\n",
      "Colocations handled automatically by placer.\n",
      "__________________________________________________________________________________________________\n",
      "Layer (type)                    Output Shape         Param #     Connected to                     \n",
      "==================================================================================================\n",
      "data (InputLayer)               (None, 160, 160, 12) 0                                            \n",
      "__________________________________________________________________________________________________\n",
      "bn_data (BatchNormalization)    (None, 160, 160, 12) 36          data[0][0]                       \n",
      "__________________________________________________________________________________________________\n",
      "zero_padding2d_1 (ZeroPadding2D (None, 166, 166, 12) 0           bn_data[0][0]                    \n",
      "__________________________________________________________________________________________________\n",
      "conv0 (Conv2D)                  (None, 80, 80, 64)   37632       zero_padding2d_1[0][0]           \n",
      "__________________________________________________________________________________________________\n",
      "bn0 (BatchNormalization)        (None, 80, 80, 64)   256         conv0[0][0]                      \n",
      "__________________________________________________________________________________________________\n",
      "relu0 (Activation)              (None, 80, 80, 64)   0           bn0[0][0]                        \n",
      "__________________________________________________________________________________________________\n",
      "zero_padding2d_2 (ZeroPadding2D (None, 82, 82, 64)   0           relu0[0][0]                      \n",
      "__________________________________________________________________________________________________\n",
      "pooling0 (MaxPooling2D)         (None, 40, 40, 64)   0           zero_padding2d_2[0][0]           \n",
      "__________________________________________________________________________________________________\n",
      "stage1_unit1_bn1 (BatchNormaliz (None, 40, 40, 64)   256         pooling0[0][0]                   \n",
      "__________________________________________________________________________________________________\n",
      "stage1_unit1_relu1 (Activation) (None, 40, 40, 64)   0           stage1_unit1_bn1[0][0]           \n",
      "__________________________________________________________________________________________________\n",
      "stage1_unit1_conv1 (Conv2D)     (None, 40, 40, 64)   4096        stage1_unit1_relu1[0][0]         \n",
      "__________________________________________________________________________________________________\n",
      "stage1_unit1_bn2 (BatchNormaliz (None, 40, 40, 64)   256         stage1_unit1_conv1[0][0]         \n",
      "__________________________________________________________________________________________________\n",
      "stage1_unit1_relu2 (Activation) (None, 40, 40, 64)   0           stage1_unit1_bn2[0][0]           \n",
      "__________________________________________________________________________________________________\n",
      "zero_padding2d_3 (ZeroPadding2D (None, 42, 42, 64)   0           stage1_unit1_relu2[0][0]         \n",
      "__________________________________________________________________________________________________\n",
      "stage1_unit1_conv2 (Conv2D)     (None, 40, 40, 64)   36864       zero_padding2d_3[0][0]           \n",
      "__________________________________________________________________________________________________\n",
      "stage1_unit1_bn3 (BatchNormaliz (None, 40, 40, 64)   256         stage1_unit1_conv2[0][0]         \n",
      "__________________________________________________________________________________________________\n",
      "stage1_unit1_relu3 (Activation) (None, 40, 40, 64)   0           stage1_unit1_bn3[0][0]           \n",
      "__________________________________________________________________________________________________\n",
      "stage1_unit1_conv3 (Conv2D)     (None, 40, 40, 256)  16384       stage1_unit1_relu3[0][0]         \n",
      "__________________________________________________________________________________________________\n",
      "stage1_unit1_sc (Conv2D)        (None, 40, 40, 256)  16384       stage1_unit1_relu1[0][0]         \n",
      "__________________________________________________________________________________________________\n",
      "add_1 (Add)                     (None, 40, 40, 256)  0           stage1_unit1_conv3[0][0]         \n",
      "                                                                 stage1_unit1_sc[0][0]            \n",
      "__________________________________________________________________________________________________\n",
      "stage1_unit2_bn1 (BatchNormaliz (None, 40, 40, 256)  1024        add_1[0][0]                      \n",
      "__________________________________________________________________________________________________\n",
      "stage1_unit2_relu1 (Activation) (None, 40, 40, 256)  0           stage1_unit2_bn1[0][0]           \n",
      "__________________________________________________________________________________________________\n",
      "stage1_unit2_conv1 (Conv2D)     (None, 40, 40, 64)   16384       stage1_unit2_relu1[0][0]         \n",
      "__________________________________________________________________________________________________\n",
      "stage1_unit2_bn2 (BatchNormaliz (None, 40, 40, 64)   256         stage1_unit2_conv1[0][0]         \n",
      "__________________________________________________________________________________________________\n",
      "stage1_unit2_relu2 (Activation) (None, 40, 40, 64)   0           stage1_unit2_bn2[0][0]           \n",
      "__________________________________________________________________________________________________\n",
      "zero_padding2d_4 (ZeroPadding2D (None, 42, 42, 64)   0           stage1_unit2_relu2[0][0]         \n",
      "__________________________________________________________________________________________________\n",
      "stage1_unit2_conv2 (Conv2D)     (None, 40, 40, 64)   36864       zero_padding2d_4[0][0]           \n",
      "__________________________________________________________________________________________________\n",
      "stage1_unit2_bn3 (BatchNormaliz (None, 40, 40, 64)   256         stage1_unit2_conv2[0][0]         \n",
      "__________________________________________________________________________________________________\n",
      "stage1_unit2_relu3 (Activation) (None, 40, 40, 64)   0           stage1_unit2_bn3[0][0]           \n",
      "__________________________________________________________________________________________________\n",
      "stage1_unit2_conv3 (Conv2D)     (None, 40, 40, 256)  16384       stage1_unit2_relu3[0][0]         \n",
      "__________________________________________________________________________________________________\n",
      "add_2 (Add)                     (None, 40, 40, 256)  0           stage1_unit2_conv3[0][0]         \n",
      "                                                                 add_1[0][0]                      \n",
      "__________________________________________________________________________________________________\n",
      "stage1_unit3_bn1 (BatchNormaliz (None, 40, 40, 256)  1024        add_2[0][0]                      \n",
      "__________________________________________________________________________________________________\n",
      "stage1_unit3_relu1 (Activation) (None, 40, 40, 256)  0           stage1_unit3_bn1[0][0]           \n",
      "__________________________________________________________________________________________________\n",
      "stage1_unit3_conv1 (Conv2D)     (None, 40, 40, 64)   16384       stage1_unit3_relu1[0][0]         \n",
      "__________________________________________________________________________________________________\n",
      "stage1_unit3_bn2 (BatchNormaliz (None, 40, 40, 64)   256         stage1_unit3_conv1[0][0]         \n",
      "__________________________________________________________________________________________________\n",
      "stage1_unit3_relu2 (Activation) (None, 40, 40, 64)   0           stage1_unit3_bn2[0][0]           \n",
      "__________________________________________________________________________________________________\n",
      "zero_padding2d_5 (ZeroPadding2D (None, 42, 42, 64)   0           stage1_unit3_relu2[0][0]         \n",
      "__________________________________________________________________________________________________\n",
      "stage1_unit3_conv2 (Conv2D)     (None, 40, 40, 64)   36864       zero_padding2d_5[0][0]           \n",
      "__________________________________________________________________________________________________\n",
      "stage1_unit3_bn3 (BatchNormaliz (None, 40, 40, 64)   256         stage1_unit3_conv2[0][0]         \n",
      "__________________________________________________________________________________________________\n",
      "stage1_unit3_relu3 (Activation) (None, 40, 40, 64)   0           stage1_unit3_bn3[0][0]           \n",
      "__________________________________________________________________________________________________\n",
      "stage1_unit3_conv3 (Conv2D)     (None, 40, 40, 256)  16384       stage1_unit3_relu3[0][0]         \n",
      "__________________________________________________________________________________________________\n",
      "add_3 (Add)                     (None, 40, 40, 256)  0           stage1_unit3_conv3[0][0]         \n",
      "                                                                 add_2[0][0]                      \n",
      "__________________________________________________________________________________________________\n",
      "stage2_unit1_bn1 (BatchNormaliz (None, 40, 40, 256)  1024        add_3[0][0]                      \n",
      "__________________________________________________________________________________________________\n",
      "stage2_unit1_relu1 (Activation) (None, 40, 40, 256)  0           stage2_unit1_bn1[0][0]           \n",
      "__________________________________________________________________________________________________\n",
      "stage2_unit1_conv1 (Conv2D)     (None, 40, 40, 128)  32768       stage2_unit1_relu1[0][0]         \n",
      "__________________________________________________________________________________________________\n",
      "stage2_unit1_bn2 (BatchNormaliz (None, 40, 40, 128)  512         stage2_unit1_conv1[0][0]         \n",
      "__________________________________________________________________________________________________\n",
      "stage2_unit1_relu2 (Activation) (None, 40, 40, 128)  0           stage2_unit1_bn2[0][0]           \n",
      "__________________________________________________________________________________________________\n",
      "zero_padding2d_6 (ZeroPadding2D (None, 42, 42, 128)  0           stage2_unit1_relu2[0][0]         \n",
      "__________________________________________________________________________________________________\n",
      "stage2_unit1_conv2 (Conv2D)     (None, 20, 20, 128)  147456      zero_padding2d_6[0][0]           \n",
      "__________________________________________________________________________________________________\n",
      "stage2_unit1_bn3 (BatchNormaliz (None, 20, 20, 128)  512         stage2_unit1_conv2[0][0]         \n",
      "__________________________________________________________________________________________________\n",
      "stage2_unit1_relu3 (Activation) (None, 20, 20, 128)  0           stage2_unit1_bn3[0][0]           \n",
      "__________________________________________________________________________________________________\n",
      "stage2_unit1_conv3 (Conv2D)     (None, 20, 20, 512)  65536       stage2_unit1_relu3[0][0]         \n",
      "__________________________________________________________________________________________________\n",
      "stage2_unit1_sc (Conv2D)        (None, 20, 20, 512)  131072      stage2_unit1_relu1[0][0]         \n",
      "__________________________________________________________________________________________________\n",
      "add_4 (Add)                     (None, 20, 20, 512)  0           stage2_unit1_conv3[0][0]         \n",
      "                                                                 stage2_unit1_sc[0][0]            \n",
      "__________________________________________________________________________________________________\n",
      "stage2_unit2_bn1 (BatchNormaliz (None, 20, 20, 512)  2048        add_4[0][0]                      \n",
      "__________________________________________________________________________________________________\n",
      "stage2_unit2_relu1 (Activation) (None, 20, 20, 512)  0           stage2_unit2_bn1[0][0]           \n",
      "__________________________________________________________________________________________________\n",
      "stage2_unit2_conv1 (Conv2D)     (None, 20, 20, 128)  65536       stage2_unit2_relu1[0][0]         \n",
      "__________________________________________________________________________________________________\n",
      "stage2_unit2_bn2 (BatchNormaliz (None, 20, 20, 128)  512         stage2_unit2_conv1[0][0]         \n",
      "__________________________________________________________________________________________________\n",
      "stage2_unit2_relu2 (Activation) (None, 20, 20, 128)  0           stage2_unit2_bn2[0][0]           \n",
      "__________________________________________________________________________________________________\n",
      "zero_padding2d_7 (ZeroPadding2D (None, 22, 22, 128)  0           stage2_unit2_relu2[0][0]         \n",
      "__________________________________________________________________________________________________\n",
      "stage2_unit2_conv2 (Conv2D)     (None, 20, 20, 128)  147456      zero_padding2d_7[0][0]           \n",
      "__________________________________________________________________________________________________\n",
      "stage2_unit2_bn3 (BatchNormaliz (None, 20, 20, 128)  512         stage2_unit2_conv2[0][0]         \n",
      "__________________________________________________________________________________________________\n",
      "stage2_unit2_relu3 (Activation) (None, 20, 20, 128)  0           stage2_unit2_bn3[0][0]           \n",
      "__________________________________________________________________________________________________\n",
      "stage2_unit2_conv3 (Conv2D)     (None, 20, 20, 512)  65536       stage2_unit2_relu3[0][0]         \n",
      "__________________________________________________________________________________________________\n",
      "add_5 (Add)                     (None, 20, 20, 512)  0           stage2_unit2_conv3[0][0]         \n",
      "                                                                 add_4[0][0]                      \n",
      "__________________________________________________________________________________________________\n",
      "stage2_unit3_bn1 (BatchNormaliz (None, 20, 20, 512)  2048        add_5[0][0]                      \n",
      "__________________________________________________________________________________________________\n",
      "stage2_unit3_relu1 (Activation) (None, 20, 20, 512)  0           stage2_unit3_bn1[0][0]           \n",
      "__________________________________________________________________________________________________\n",
      "stage2_unit3_conv1 (Conv2D)     (None, 20, 20, 128)  65536       stage2_unit3_relu1[0][0]         \n",
      "__________________________________________________________________________________________________\n",
      "stage2_unit3_bn2 (BatchNormaliz (None, 20, 20, 128)  512         stage2_unit3_conv1[0][0]         \n",
      "__________________________________________________________________________________________________\n",
      "stage2_unit3_relu2 (Activation) (None, 20, 20, 128)  0           stage2_unit3_bn2[0][0]           \n",
      "__________________________________________________________________________________________________\n",
      "zero_padding2d_8 (ZeroPadding2D (None, 22, 22, 128)  0           stage2_unit3_relu2[0][0]         \n",
      "__________________________________________________________________________________________________\n",
      "stage2_unit3_conv2 (Conv2D)     (None, 20, 20, 128)  147456      zero_padding2d_8[0][0]           \n",
      "__________________________________________________________________________________________________\n",
      "stage2_unit3_bn3 (BatchNormaliz (None, 20, 20, 128)  512         stage2_unit3_conv2[0][0]         \n",
      "__________________________________________________________________________________________________\n",
      "stage2_unit3_relu3 (Activation) (None, 20, 20, 128)  0           stage2_unit3_bn3[0][0]           \n",
      "__________________________________________________________________________________________________\n",
      "stage2_unit3_conv3 (Conv2D)     (None, 20, 20, 512)  65536       stage2_unit3_relu3[0][0]         \n",
      "__________________________________________________________________________________________________\n",
      "add_6 (Add)                     (None, 20, 20, 512)  0           stage2_unit3_conv3[0][0]         \n",
      "                                                                 add_5[0][0]                      \n",
      "__________________________________________________________________________________________________\n",
      "stage2_unit4_bn1 (BatchNormaliz (None, 20, 20, 512)  2048        add_6[0][0]                      \n",
      "__________________________________________________________________________________________________\n",
      "stage2_unit4_relu1 (Activation) (None, 20, 20, 512)  0           stage2_unit4_bn1[0][0]           \n",
      "__________________________________________________________________________________________________\n",
      "stage2_unit4_conv1 (Conv2D)     (None, 20, 20, 128)  65536       stage2_unit4_relu1[0][0]         \n",
      "__________________________________________________________________________________________________\n",
      "stage2_unit4_bn2 (BatchNormaliz (None, 20, 20, 128)  512         stage2_unit4_conv1[0][0]         \n",
      "__________________________________________________________________________________________________\n",
      "stage2_unit4_relu2 (Activation) (None, 20, 20, 128)  0           stage2_unit4_bn2[0][0]           \n",
      "__________________________________________________________________________________________________\n",
      "zero_padding2d_9 (ZeroPadding2D (None, 22, 22, 128)  0           stage2_unit4_relu2[0][0]         \n",
      "__________________________________________________________________________________________________\n",
      "stage2_unit4_conv2 (Conv2D)     (None, 20, 20, 128)  147456      zero_padding2d_9[0][0]           \n",
      "__________________________________________________________________________________________________\n",
      "stage2_unit4_bn3 (BatchNormaliz (None, 20, 20, 128)  512         stage2_unit4_conv2[0][0]         \n",
      "__________________________________________________________________________________________________\n",
      "stage2_unit4_relu3 (Activation) (None, 20, 20, 128)  0           stage2_unit4_bn3[0][0]           \n",
      "__________________________________________________________________________________________________\n",
      "stage2_unit4_conv3 (Conv2D)     (None, 20, 20, 512)  65536       stage2_unit4_relu3[0][0]         \n",
      "__________________________________________________________________________________________________\n",
      "add_7 (Add)                     (None, 20, 20, 512)  0           stage2_unit4_conv3[0][0]         \n",
      "                                                                 add_6[0][0]                      \n",
      "__________________________________________________________________________________________________\n",
      "stage3_unit1_bn1 (BatchNormaliz (None, 20, 20, 512)  2048        add_7[0][0]                      \n",
      "__________________________________________________________________________________________________\n",
      "stage3_unit1_relu1 (Activation) (None, 20, 20, 512)  0           stage3_unit1_bn1[0][0]           \n",
      "__________________________________________________________________________________________________\n",
      "stage3_unit1_conv1 (Conv2D)     (None, 20, 20, 256)  131072      stage3_unit1_relu1[0][0]         \n",
      "__________________________________________________________________________________________________\n",
      "stage3_unit1_bn2 (BatchNormaliz (None, 20, 20, 256)  1024        stage3_unit1_conv1[0][0]         \n",
      "__________________________________________________________________________________________________\n",
      "stage3_unit1_relu2 (Activation) (None, 20, 20, 256)  0           stage3_unit1_bn2[0][0]           \n",
      "__________________________________________________________________________________________________\n",
      "zero_padding2d_10 (ZeroPadding2 (None, 22, 22, 256)  0           stage3_unit1_relu2[0][0]         \n",
      "__________________________________________________________________________________________________\n",
      "stage3_unit1_conv2 (Conv2D)     (None, 10, 10, 256)  589824      zero_padding2d_10[0][0]          \n",
      "__________________________________________________________________________________________________\n",
      "stage3_unit1_bn3 (BatchNormaliz (None, 10, 10, 256)  1024        stage3_unit1_conv2[0][0]         \n",
      "__________________________________________________________________________________________________\n",
      "stage3_unit1_relu3 (Activation) (None, 10, 10, 256)  0           stage3_unit1_bn3[0][0]           \n",
      "__________________________________________________________________________________________________\n",
      "stage3_unit1_conv3 (Conv2D)     (None, 10, 10, 1024) 262144      stage3_unit1_relu3[0][0]         \n",
      "__________________________________________________________________________________________________\n",
      "stage3_unit1_sc (Conv2D)        (None, 10, 10, 1024) 524288      stage3_unit1_relu1[0][0]         \n",
      "__________________________________________________________________________________________________\n",
      "add_8 (Add)                     (None, 10, 10, 1024) 0           stage3_unit1_conv3[0][0]         \n",
      "                                                                 stage3_unit1_sc[0][0]            \n",
      "__________________________________________________________________________________________________\n",
      "stage3_unit2_bn1 (BatchNormaliz (None, 10, 10, 1024) 4096        add_8[0][0]                      \n",
      "__________________________________________________________________________________________________\n",
      "stage3_unit2_relu1 (Activation) (None, 10, 10, 1024) 0           stage3_unit2_bn1[0][0]           \n",
      "__________________________________________________________________________________________________\n",
      "stage3_unit2_conv1 (Conv2D)     (None, 10, 10, 256)  262144      stage3_unit2_relu1[0][0]         \n",
      "__________________________________________________________________________________________________\n",
      "stage3_unit2_bn2 (BatchNormaliz (None, 10, 10, 256)  1024        stage3_unit2_conv1[0][0]         \n",
      "__________________________________________________________________________________________________\n",
      "stage3_unit2_relu2 (Activation) (None, 10, 10, 256)  0           stage3_unit2_bn2[0][0]           \n",
      "__________________________________________________________________________________________________\n",
      "zero_padding2d_11 (ZeroPadding2 (None, 12, 12, 256)  0           stage3_unit2_relu2[0][0]         \n",
      "__________________________________________________________________________________________________\n",
      "stage3_unit2_conv2 (Conv2D)     (None, 10, 10, 256)  589824      zero_padding2d_11[0][0]          \n",
      "__________________________________________________________________________________________________\n",
      "stage3_unit2_bn3 (BatchNormaliz (None, 10, 10, 256)  1024        stage3_unit2_conv2[0][0]         \n",
      "__________________________________________________________________________________________________\n",
      "stage3_unit2_relu3 (Activation) (None, 10, 10, 256)  0           stage3_unit2_bn3[0][0]           \n",
      "__________________________________________________________________________________________________\n",
      "stage3_unit2_conv3 (Conv2D)     (None, 10, 10, 1024) 262144      stage3_unit2_relu3[0][0]         \n",
      "__________________________________________________________________________________________________\n",
      "add_9 (Add)                     (None, 10, 10, 1024) 0           stage3_unit2_conv3[0][0]         \n",
      "                                                                 add_8[0][0]                      \n",
      "__________________________________________________________________________________________________\n",
      "stage3_unit3_bn1 (BatchNormaliz (None, 10, 10, 1024) 4096        add_9[0][0]                      \n",
      "__________________________________________________________________________________________________\n",
      "stage3_unit3_relu1 (Activation) (None, 10, 10, 1024) 0           stage3_unit3_bn1[0][0]           \n",
      "__________________________________________________________________________________________________\n",
      "stage3_unit3_conv1 (Conv2D)     (None, 10, 10, 256)  262144      stage3_unit3_relu1[0][0]         \n",
      "__________________________________________________________________________________________________\n",
      "stage3_unit3_bn2 (BatchNormaliz (None, 10, 10, 256)  1024        stage3_unit3_conv1[0][0]         \n",
      "__________________________________________________________________________________________________\n",
      "stage3_unit3_relu2 (Activation) (None, 10, 10, 256)  0           stage3_unit3_bn2[0][0]           \n",
      "__________________________________________________________________________________________________\n",
      "zero_padding2d_12 (ZeroPadding2 (None, 12, 12, 256)  0           stage3_unit3_relu2[0][0]         \n",
      "__________________________________________________________________________________________________\n",
      "stage3_unit3_conv2 (Conv2D)     (None, 10, 10, 256)  589824      zero_padding2d_12[0][0]          \n",
      "__________________________________________________________________________________________________\n",
      "stage3_unit3_bn3 (BatchNormaliz (None, 10, 10, 256)  1024        stage3_unit3_conv2[0][0]         \n",
      "__________________________________________________________________________________________________\n",
      "stage3_unit3_relu3 (Activation) (None, 10, 10, 256)  0           stage3_unit3_bn3[0][0]           \n",
      "__________________________________________________________________________________________________\n",
      "stage3_unit3_conv3 (Conv2D)     (None, 10, 10, 1024) 262144      stage3_unit3_relu3[0][0]         \n",
      "__________________________________________________________________________________________________\n",
      "add_10 (Add)                    (None, 10, 10, 1024) 0           stage3_unit3_conv3[0][0]         \n",
      "                                                                 add_9[0][0]                      \n",
      "__________________________________________________________________________________________________\n",
      "stage3_unit4_bn1 (BatchNormaliz (None, 10, 10, 1024) 4096        add_10[0][0]                     \n",
      "__________________________________________________________________________________________________\n",
      "stage3_unit4_relu1 (Activation) (None, 10, 10, 1024) 0           stage3_unit4_bn1[0][0]           \n",
      "__________________________________________________________________________________________________\n",
      "stage3_unit4_conv1 (Conv2D)     (None, 10, 10, 256)  262144      stage3_unit4_relu1[0][0]         \n",
      "__________________________________________________________________________________________________\n",
      "stage3_unit4_bn2 (BatchNormaliz (None, 10, 10, 256)  1024        stage3_unit4_conv1[0][0]         \n",
      "__________________________________________________________________________________________________\n",
      "stage3_unit4_relu2 (Activation) (None, 10, 10, 256)  0           stage3_unit4_bn2[0][0]           \n",
      "__________________________________________________________________________________________________\n",
      "zero_padding2d_13 (ZeroPadding2 (None, 12, 12, 256)  0           stage3_unit4_relu2[0][0]         \n",
      "__________________________________________________________________________________________________\n",
      "stage3_unit4_conv2 (Conv2D)     (None, 10, 10, 256)  589824      zero_padding2d_13[0][0]          \n",
      "__________________________________________________________________________________________________\n",
      "stage3_unit4_bn3 (BatchNormaliz (None, 10, 10, 256)  1024        stage3_unit4_conv2[0][0]         \n",
      "__________________________________________________________________________________________________\n",
      "stage3_unit4_relu3 (Activation) (None, 10, 10, 256)  0           stage3_unit4_bn3[0][0]           \n",
      "__________________________________________________________________________________________________\n",
      "stage3_unit4_conv3 (Conv2D)     (None, 10, 10, 1024) 262144      stage3_unit4_relu3[0][0]         \n",
      "__________________________________________________________________________________________________\n",
      "add_11 (Add)                    (None, 10, 10, 1024) 0           stage3_unit4_conv3[0][0]         \n",
      "                                                                 add_10[0][0]                     \n",
      "__________________________________________________________________________________________________\n",
      "stage3_unit5_bn1 (BatchNormaliz (None, 10, 10, 1024) 4096        add_11[0][0]                     \n",
      "__________________________________________________________________________________________________\n",
      "stage3_unit5_relu1 (Activation) (None, 10, 10, 1024) 0           stage3_unit5_bn1[0][0]           \n",
      "__________________________________________________________________________________________________\n",
      "stage3_unit5_conv1 (Conv2D)     (None, 10, 10, 256)  262144      stage3_unit5_relu1[0][0]         \n",
      "__________________________________________________________________________________________________\n",
      "stage3_unit5_bn2 (BatchNormaliz (None, 10, 10, 256)  1024        stage3_unit5_conv1[0][0]         \n",
      "__________________________________________________________________________________________________\n",
      "stage3_unit5_relu2 (Activation) (None, 10, 10, 256)  0           stage3_unit5_bn2[0][0]           \n",
      "__________________________________________________________________________________________________\n",
      "zero_padding2d_14 (ZeroPadding2 (None, 12, 12, 256)  0           stage3_unit5_relu2[0][0]         \n",
      "__________________________________________________________________________________________________\n",
      "stage3_unit5_conv2 (Conv2D)     (None, 10, 10, 256)  589824      zero_padding2d_14[0][0]          \n",
      "__________________________________________________________________________________________________\n",
      "stage3_unit5_bn3 (BatchNormaliz (None, 10, 10, 256)  1024        stage3_unit5_conv2[0][0]         \n",
      "__________________________________________________________________________________________________\n",
      "stage3_unit5_relu3 (Activation) (None, 10, 10, 256)  0           stage3_unit5_bn3[0][0]           \n",
      "__________________________________________________________________________________________________\n",
      "stage3_unit5_conv3 (Conv2D)     (None, 10, 10, 1024) 262144      stage3_unit5_relu3[0][0]         \n",
      "__________________________________________________________________________________________________\n",
      "add_12 (Add)                    (None, 10, 10, 1024) 0           stage3_unit5_conv3[0][0]         \n",
      "                                                                 add_11[0][0]                     \n",
      "__________________________________________________________________________________________________\n",
      "stage3_unit6_bn1 (BatchNormaliz (None, 10, 10, 1024) 4096        add_12[0][0]                     \n",
      "__________________________________________________________________________________________________\n",
      "stage3_unit6_relu1 (Activation) (None, 10, 10, 1024) 0           stage3_unit6_bn1[0][0]           \n",
      "__________________________________________________________________________________________________\n",
      "stage3_unit6_conv1 (Conv2D)     (None, 10, 10, 256)  262144      stage3_unit6_relu1[0][0]         \n",
      "__________________________________________________________________________________________________\n",
      "stage3_unit6_bn2 (BatchNormaliz (None, 10, 10, 256)  1024        stage3_unit6_conv1[0][0]         \n",
      "__________________________________________________________________________________________________\n",
      "stage3_unit6_relu2 (Activation) (None, 10, 10, 256)  0           stage3_unit6_bn2[0][0]           \n",
      "__________________________________________________________________________________________________\n",
      "zero_padding2d_15 (ZeroPadding2 (None, 12, 12, 256)  0           stage3_unit6_relu2[0][0]         \n",
      "__________________________________________________________________________________________________\n",
      "stage3_unit6_conv2 (Conv2D)     (None, 10, 10, 256)  589824      zero_padding2d_15[0][0]          \n",
      "__________________________________________________________________________________________________\n",
      "stage3_unit6_bn3 (BatchNormaliz (None, 10, 10, 256)  1024        stage3_unit6_conv2[0][0]         \n",
      "__________________________________________________________________________________________________\n",
      "stage3_unit6_relu3 (Activation) (None, 10, 10, 256)  0           stage3_unit6_bn3[0][0]           \n",
      "__________________________________________________________________________________________________\n",
      "stage3_unit6_conv3 (Conv2D)     (None, 10, 10, 1024) 262144      stage3_unit6_relu3[0][0]         \n",
      "__________________________________________________________________________________________________\n",
      "add_13 (Add)                    (None, 10, 10, 1024) 0           stage3_unit6_conv3[0][0]         \n",
      "                                                                 add_12[0][0]                     \n",
      "__________________________________________________________________________________________________\n",
      "stage4_unit1_bn1 (BatchNormaliz (None, 10, 10, 1024) 4096        add_13[0][0]                     \n",
      "__________________________________________________________________________________________________\n",
      "stage4_unit1_relu1 (Activation) (None, 10, 10, 1024) 0           stage4_unit1_bn1[0][0]           \n",
      "__________________________________________________________________________________________________\n",
      "stage4_unit1_conv1 (Conv2D)     (None, 10, 10, 512)  524288      stage4_unit1_relu1[0][0]         \n",
      "__________________________________________________________________________________________________\n",
      "stage4_unit1_bn2 (BatchNormaliz (None, 10, 10, 512)  2048        stage4_unit1_conv1[0][0]         \n",
      "__________________________________________________________________________________________________\n",
      "stage4_unit1_relu2 (Activation) (None, 10, 10, 512)  0           stage4_unit1_bn2[0][0]           \n",
      "__________________________________________________________________________________________________\n",
      "zero_padding2d_16 (ZeroPadding2 (None, 12, 12, 512)  0           stage4_unit1_relu2[0][0]         \n",
      "__________________________________________________________________________________________________\n",
      "stage4_unit1_conv2 (Conv2D)     (None, 5, 5, 512)    2359296     zero_padding2d_16[0][0]          \n",
      "__________________________________________________________________________________________________\n",
      "stage4_unit1_bn3 (BatchNormaliz (None, 5, 5, 512)    2048        stage4_unit1_conv2[0][0]         \n",
      "__________________________________________________________________________________________________\n",
      "stage4_unit1_relu3 (Activation) (None, 5, 5, 512)    0           stage4_unit1_bn3[0][0]           \n",
      "__________________________________________________________________________________________________\n",
      "stage4_unit1_conv3 (Conv2D)     (None, 5, 5, 2048)   1048576     stage4_unit1_relu3[0][0]         \n",
      "__________________________________________________________________________________________________\n",
      "stage4_unit1_sc (Conv2D)        (None, 5, 5, 2048)   2097152     stage4_unit1_relu1[0][0]         \n",
      "__________________________________________________________________________________________________\n",
      "add_14 (Add)                    (None, 5, 5, 2048)   0           stage4_unit1_conv3[0][0]         \n",
      "                                                                 stage4_unit1_sc[0][0]            \n",
      "__________________________________________________________________________________________________\n",
      "stage4_unit2_bn1 (BatchNormaliz (None, 5, 5, 2048)   8192        add_14[0][0]                     \n",
      "__________________________________________________________________________________________________\n",
      "stage4_unit2_relu1 (Activation) (None, 5, 5, 2048)   0           stage4_unit2_bn1[0][0]           \n",
      "__________________________________________________________________________________________________\n",
      "stage4_unit2_conv1 (Conv2D)     (None, 5, 5, 512)    1048576     stage4_unit2_relu1[0][0]         \n",
      "__________________________________________________________________________________________________\n",
      "stage4_unit2_bn2 (BatchNormaliz (None, 5, 5, 512)    2048        stage4_unit2_conv1[0][0]         \n",
      "__________________________________________________________________________________________________\n",
      "stage4_unit2_relu2 (Activation) (None, 5, 5, 512)    0           stage4_unit2_bn2[0][0]           \n",
      "__________________________________________________________________________________________________\n",
      "zero_padding2d_17 (ZeroPadding2 (None, 7, 7, 512)    0           stage4_unit2_relu2[0][0]         \n",
      "__________________________________________________________________________________________________\n",
      "stage4_unit2_conv2 (Conv2D)     (None, 5, 5, 512)    2359296     zero_padding2d_17[0][0]          \n",
      "__________________________________________________________________________________________________\n",
      "stage4_unit2_bn3 (BatchNormaliz (None, 5, 5, 512)    2048        stage4_unit2_conv2[0][0]         \n",
      "__________________________________________________________________________________________________\n",
      "stage4_unit2_relu3 (Activation) (None, 5, 5, 512)    0           stage4_unit2_bn3[0][0]           \n",
      "__________________________________________________________________________________________________\n",
      "stage4_unit2_conv3 (Conv2D)     (None, 5, 5, 2048)   1048576     stage4_unit2_relu3[0][0]         \n",
      "__________________________________________________________________________________________________\n",
      "add_15 (Add)                    (None, 5, 5, 2048)   0           stage4_unit2_conv3[0][0]         \n",
      "                                                                 add_14[0][0]                     \n",
      "__________________________________________________________________________________________________\n",
      "stage4_unit3_bn1 (BatchNormaliz (None, 5, 5, 2048)   8192        add_15[0][0]                     \n",
      "__________________________________________________________________________________________________\n",
      "stage4_unit3_relu1 (Activation) (None, 5, 5, 2048)   0           stage4_unit3_bn1[0][0]           \n",
      "__________________________________________________________________________________________________\n",
      "stage4_unit3_conv1 (Conv2D)     (None, 5, 5, 512)    1048576     stage4_unit3_relu1[0][0]         \n",
      "__________________________________________________________________________________________________\n",
      "stage4_unit3_bn2 (BatchNormaliz (None, 5, 5, 512)    2048        stage4_unit3_conv1[0][0]         \n",
      "__________________________________________________________________________________________________\n",
      "stage4_unit3_relu2 (Activation) (None, 5, 5, 512)    0           stage4_unit3_bn2[0][0]           \n",
      "__________________________________________________________________________________________________\n",
      "zero_padding2d_18 (ZeroPadding2 (None, 7, 7, 512)    0           stage4_unit3_relu2[0][0]         \n",
      "__________________________________________________________________________________________________\n",
      "stage4_unit3_conv2 (Conv2D)     (None, 5, 5, 512)    2359296     zero_padding2d_18[0][0]          \n",
      "__________________________________________________________________________________________________\n",
      "stage4_unit3_bn3 (BatchNormaliz (None, 5, 5, 512)    2048        stage4_unit3_conv2[0][0]         \n",
      "__________________________________________________________________________________________________\n",
      "stage4_unit3_relu3 (Activation) (None, 5, 5, 512)    0           stage4_unit3_bn3[0][0]           \n",
      "__________________________________________________________________________________________________\n",
      "stage4_unit3_conv3 (Conv2D)     (None, 5, 5, 2048)   1048576     stage4_unit3_relu3[0][0]         \n",
      "__________________________________________________________________________________________________\n",
      "add_16 (Add)                    (None, 5, 5, 2048)   0           stage4_unit3_conv3[0][0]         \n",
      "                                                                 add_15[0][0]                     \n",
      "__________________________________________________________________________________________________\n",
      "bn1 (BatchNormalization)        (None, 5, 5, 2048)   8192        add_16[0][0]                     \n",
      "__________________________________________________________________________________________________\n",
      "relu1 (Activation)              (None, 5, 5, 2048)   0           bn1[0][0]                        \n",
      "__________________________________________________________________________________________________\n",
      "decoder_stage0_conv1 (Conv2D)   (None, 5, 5, 512)    1048576     relu1[0][0]                      \n",
      "__________________________________________________________________________________________________\n",
      "decoder_stage0_bn1 (BatchNormal (None, 5, 5, 512)    2048        decoder_stage0_conv1[0][0]       \n",
      "__________________________________________________________________________________________________\n",
      "decoder_stage0_relu1 (Activatio (None, 5, 5, 512)    0           decoder_stage0_bn1[0][0]         \n",
      "__________________________________________________________________________________________________\n",
      "decoder_stage0_upsample2 (UpSam (None, 10, 10, 512)  0           decoder_stage0_relu1[0][0]       \n",
      "__________________________________________________________________________________________________\n",
      "decoder_stage0_conv2 (Conv2D)   (None, 10, 10, 512)  2359296     decoder_stage0_upsample2[0][0]   \n",
      "__________________________________________________________________________________________________\n",
      "decoder_stage0_bn2 (BatchNormal (None, 10, 10, 512)  2048        decoder_stage0_conv2[0][0]       \n",
      "__________________________________________________________________________________________________\n",
      "decoder_stage0_relu2 (Activatio (None, 10, 10, 512)  0           decoder_stage0_bn2[0][0]         \n",
      "__________________________________________________________________________________________________\n",
      "decoder_stage0_conv3 (Conv2D)   (None, 10, 10, 1024) 524288      decoder_stage0_relu2[0][0]       \n",
      "__________________________________________________________________________________________________\n",
      "decoder_stage0_bn3 (BatchNormal (None, 10, 10, 1024) 4096        decoder_stage0_conv3[0][0]       \n",
      "__________________________________________________________________________________________________\n",
      "decoder_stage0_relu3 (Activatio (None, 10, 10, 1024) 0           decoder_stage0_bn3[0][0]         \n",
      "__________________________________________________________________________________________________\n",
      "add_17 (Add)                    (None, 10, 10, 1024) 0           decoder_stage0_relu3[0][0]       \n",
      "                                                                 stage4_unit1_relu1[0][0]         \n",
      "__________________________________________________________________________________________________\n",
      "decoder_stage1_conv1 (Conv2D)   (None, 10, 10, 256)  262144      add_17[0][0]                     \n",
      "__________________________________________________________________________________________________\n",
      "decoder_stage1_bn1 (BatchNormal (None, 10, 10, 256)  1024        decoder_stage1_conv1[0][0]       \n",
      "__________________________________________________________________________________________________\n",
      "decoder_stage1_relu1 (Activatio (None, 10, 10, 256)  0           decoder_stage1_bn1[0][0]         \n",
      "__________________________________________________________________________________________________\n",
      "decoder_stage1_upsample2 (UpSam (None, 20, 20, 256)  0           decoder_stage1_relu1[0][0]       \n",
      "__________________________________________________________________________________________________\n",
      "decoder_stage1_conv2 (Conv2D)   (None, 20, 20, 256)  589824      decoder_stage1_upsample2[0][0]   \n",
      "__________________________________________________________________________________________________\n",
      "decoder_stage1_bn2 (BatchNormal (None, 20, 20, 256)  1024        decoder_stage1_conv2[0][0]       \n",
      "__________________________________________________________________________________________________\n",
      "decoder_stage1_relu2 (Activatio (None, 20, 20, 256)  0           decoder_stage1_bn2[0][0]         \n",
      "__________________________________________________________________________________________________\n",
      "decoder_stage1_conv3 (Conv2D)   (None, 20, 20, 512)  131072      decoder_stage1_relu2[0][0]       \n",
      "__________________________________________________________________________________________________\n",
      "decoder_stage1_bn3 (BatchNormal (None, 20, 20, 512)  2048        decoder_stage1_conv3[0][0]       \n",
      "__________________________________________________________________________________________________\n",
      "decoder_stage1_relu3 (Activatio (None, 20, 20, 512)  0           decoder_stage1_bn3[0][0]         \n",
      "__________________________________________________________________________________________________\n",
      "add_18 (Add)                    (None, 20, 20, 512)  0           decoder_stage1_relu3[0][0]       \n",
      "                                                                 stage3_unit1_relu1[0][0]         \n",
      "__________________________________________________________________________________________________\n",
      "decoder_stage2_conv1 (Conv2D)   (None, 20, 20, 128)  65536       add_18[0][0]                     \n",
      "__________________________________________________________________________________________________\n",
      "decoder_stage2_bn1 (BatchNormal (None, 20, 20, 128)  512         decoder_stage2_conv1[0][0]       \n",
      "__________________________________________________________________________________________________\n",
      "decoder_stage2_relu1 (Activatio (None, 20, 20, 128)  0           decoder_stage2_bn1[0][0]         \n",
      "__________________________________________________________________________________________________\n",
      "decoder_stage2_upsample2 (UpSam (None, 40, 40, 128)  0           decoder_stage2_relu1[0][0]       \n",
      "__________________________________________________________________________________________________\n",
      "decoder_stage2_conv2 (Conv2D)   (None, 40, 40, 128)  147456      decoder_stage2_upsample2[0][0]   \n",
      "__________________________________________________________________________________________________\n",
      "decoder_stage2_bn2 (BatchNormal (None, 40, 40, 128)  512         decoder_stage2_conv2[0][0]       \n",
      "__________________________________________________________________________________________________\n",
      "decoder_stage2_relu2 (Activatio (None, 40, 40, 128)  0           decoder_stage2_bn2[0][0]         \n",
      "__________________________________________________________________________________________________\n",
      "decoder_stage2_conv3 (Conv2D)   (None, 40, 40, 256)  32768       decoder_stage2_relu2[0][0]       \n",
      "__________________________________________________________________________________________________\n",
      "decoder_stage2_bn3 (BatchNormal (None, 40, 40, 256)  1024        decoder_stage2_conv3[0][0]       \n",
      "__________________________________________________________________________________________________\n",
      "decoder_stage2_relu3 (Activatio (None, 40, 40, 256)  0           decoder_stage2_bn3[0][0]         \n",
      "__________________________________________________________________________________________________\n",
      "add_19 (Add)                    (None, 40, 40, 256)  0           decoder_stage2_relu3[0][0]       \n",
      "                                                                 stage2_unit1_relu1[0][0]         \n",
      "__________________________________________________________________________________________________\n",
      "decoder_stage3_conv1 (Conv2D)   (None, 40, 40, 64)   16384       add_19[0][0]                     \n",
      "__________________________________________________________________________________________________\n",
      "decoder_stage3_bn1 (BatchNormal (None, 40, 40, 64)   256         decoder_stage3_conv1[0][0]       \n",
      "__________________________________________________________________________________________________\n",
      "decoder_stage3_relu1 (Activatio (None, 40, 40, 64)   0           decoder_stage3_bn1[0][0]         \n",
      "__________________________________________________________________________________________________\n",
      "decoder_stage3_upsample2 (UpSam (None, 80, 80, 64)   0           decoder_stage3_relu1[0][0]       \n",
      "__________________________________________________________________________________________________\n",
      "decoder_stage3_conv2 (Conv2D)   (None, 80, 80, 64)   36864       decoder_stage3_upsample2[0][0]   \n",
      "__________________________________________________________________________________________________\n",
      "decoder_stage3_bn2 (BatchNormal (None, 80, 80, 64)   256         decoder_stage3_conv2[0][0]       \n",
      "__________________________________________________________________________________________________\n",
      "decoder_stage3_relu2 (Activatio (None, 80, 80, 64)   0           decoder_stage3_bn2[0][0]         \n",
      "__________________________________________________________________________________________________\n",
      "decoder_stage3_conv3 (Conv2D)   (None, 80, 80, 64)   4096        decoder_stage3_relu2[0][0]       \n",
      "__________________________________________________________________________________________________\n",
      "decoder_stage3_bn3 (BatchNormal (None, 80, 80, 64)   256         decoder_stage3_conv3[0][0]       \n",
      "__________________________________________________________________________________________________\n",
      "decoder_stage3_relu3 (Activatio (None, 80, 80, 64)   0           decoder_stage3_bn3[0][0]         \n",
      "__________________________________________________________________________________________________\n",
      "add_20 (Add)                    (None, 80, 80, 64)   0           decoder_stage3_relu3[0][0]       \n",
      "                                                                 relu0[0][0]                      \n",
      "__________________________________________________________________________________________________\n",
      "decoder_stage4_conv1 (Conv2D)   (None, 80, 80, 16)   1024        add_20[0][0]                     \n",
      "__________________________________________________________________________________________________\n",
      "decoder_stage4_bn1 (BatchNormal (None, 80, 80, 16)   64          decoder_stage4_conv1[0][0]       \n",
      "__________________________________________________________________________________________________\n",
      "decoder_stage4_relu1 (Activatio (None, 80, 80, 16)   0           decoder_stage4_bn1[0][0]         \n",
      "__________________________________________________________________________________________________\n",
      "decoder_stage4_upsample2 (UpSam (None, 160, 160, 16) 0           decoder_stage4_relu1[0][0]       \n",
      "__________________________________________________________________________________________________\n",
      "decoder_stage4_conv2 (Conv2D)   (None, 160, 160, 16) 2304        decoder_stage4_upsample2[0][0]   \n",
      "__________________________________________________________________________________________________\n",
      "decoder_stage4_bn2 (BatchNormal (None, 160, 160, 16) 64          decoder_stage4_conv2[0][0]       \n",
      "__________________________________________________________________________________________________\n",
      "decoder_stage4_relu2 (Activatio (None, 160, 160, 16) 0           decoder_stage4_bn2[0][0]         \n",
      "__________________________________________________________________________________________________\n",
      "decoder_stage4_conv3 (Conv2D)   (None, 160, 160, 16) 256         decoder_stage4_relu2[0][0]       \n",
      "__________________________________________________________________________________________________\n",
      "decoder_stage4_bn3 (BatchNormal (None, 160, 160, 16) 64          decoder_stage4_conv3[0][0]       \n",
      "__________________________________________________________________________________________________\n",
      "decoder_stage4_relu3 (Activatio (None, 160, 160, 16) 0           decoder_stage4_bn3[0][0]         \n",
      "__________________________________________________________________________________________________\n",
      "final_conv (Conv2D)             (None, 160, 160, 1)  145         decoder_stage4_relu3[0][0]       \n",
      "__________________________________________________________________________________________________\n",
      "sigmoid (Activation)            (None, 160, 160, 1)  0           final_conv[0][0]                 \n",
      "==================================================================================================\n",
      "Total params: 28,811,637\n",
      "Trainable params: 28,758,397\n",
      "Non-trainable params: 53,240\n",
      "__________________________________________________________________________________________________\n"
     ]
    }
   ],
   "source": [
    "model = Linknet('resnet50', classes=1, activation='sigmoid', input_shape=(sample_size, sample_size, number_chanels),encoder_weights=None)\n",
    "model.compile(optimizer='Adam',loss='binary_crossentropy',metrics=['accuracy',keras_metrics.precision(), keras_metrics.recall()])\n",
    "model.summary()"
   ]
  },
  {
   "cell_type": "code",
   "execution_count": null,
   "metadata": {},
   "outputs": [],
   "source": [
    "callbacks = [\n",
    "    EarlyStopping(patience=10, verbose=1),\n",
    "    ModelCheckpoint('model_segmentation.h5', verbose=1, save_best_only=True, save_weights_only=True)\n",
    "]\n",
    "\n",
    "batch_size = 100\n",
    "number_sample = 100\n",
    "\n",
    "\n",
    "def data_train_test_index(number_sample, train_test):\n",
    "    lim1_train, lim2_train = 0, number_sample * train_test\n",
    "    lim1_test, lim2_test =lim2_train + 1,  number_sample * (1 - train_test)\n",
    "    return lim1_train, lim2_train, lim1_test, lim2_test\n",
    "\n",
    "lim1_train, lim2_train, lim1_test, lim2_test = data_train_test_index(number_sample, 0.8)"
   ]
  },
  {
   "cell_type": "code",
   "execution_count": null,
   "metadata": {},
   "outputs": [],
   "source": [
    "train_generator = preprocess.generator(lst_channels, masks_lst, batch_size, lim1_train, lim2_train)\n",
    "validation_generator = preprocess.generator(lst_channels, masks_lst, batch_size, lim1_test, lim2_test)\n",
    "results = model.fit_generator(train_generator, validation_data=validation_generator,validation_steps=20, samples_per_epoch=80, nb_epoch=10,verbose=1)"
   ]
  },
  {
   "cell_type": "code",
   "execution_count": null,
   "metadata": {},
   "outputs": [],
   "source": [
    "def get_loss_error_plt(results):\n",
    "    plt.figure(figsize=(8, 8))\n",
    "    plt.title(\"Learning curve\")\n",
    "    plt.plot(results.history[\"loss\"], label=\"loss\")\n",
    "    plt.plot(results.history[\"val_loss\"], label=\"val_loss\")\n",
    "    plt.plot( np.argmin(results.history[\"val_loss\"]), np.min(results.history[\"val_loss\"]), marker=\"x\", color=\"r\", label=\"best model\")\n",
    "    plt.xlabel(\"Epochs\")\n",
    "    plt.ylabel(\"log_loss\")\n",
    "    plt.legend();\n",
    "get_loss_error_plt(results) "
   ]
  },
  {
   "cell_type": "code",
   "execution_count": null,
   "metadata": {},
   "outputs": [],
   "source": [
    "preds_train = model.predict(X_train, verbose=1)\n",
    "preds_test = model.predict(X_test, verbose=1)"
   ]
  },
  {
   "cell_type": "code",
   "execution_count": null,
   "metadata": {},
   "outputs": [],
   "source": [
    "for sumpel in range(len(X_train)):\n",
    "    print(\"#######################################\")\n",
    "    plt.imshow(preds_train[sumpel][:, :, 0])\n",
    "    plt.show()\n",
    "    plt.imshow(y_train[sumpel][:, :, 0])\n",
    "    plt.show()\n",
    "    print(\"#######################################\")\n",
    "preds_train[sumpel][:, :, 0]"
   ]
  },
  {
   "cell_type": "code",
   "execution_count": null,
   "metadata": {},
   "outputs": [],
   "source": [
    "arry = preds_train[sumpel][:, :, 0]\n",
    "plt.imshow(arry)"
   ]
  },
  {
   "cell_type": "code",
   "execution_count": null,
   "metadata": {},
   "outputs": [],
   "source": [
    "for sumpel in range(len(X_test)):    \n",
    "    print(\"#######################################\")\n",
    "    plt.imshow(preds_test[sumpel][:, :, 0])\n",
    "    plt.show()\n",
    "    plt.imshow(y_test[sumpel][:, :, 0])\n",
    "    plt.show()\n",
    "    print(\"#######################################\")"
   ]
  },
  {
   "cell_type": "markdown",
   "metadata": {},
   "source": [
    "## Load model"
   ]
  },
  {
   "cell_type": "code",
   "execution_count": 6,
   "metadata": {},
   "outputs": [],
   "source": [
    "model = Linknet('resnet50', classes=1, activation='sigmoid', input_shape=(sample_size, sample_size, number_chanels),encoder_weights=None)\n",
    "Path_to_weights = 'Model\\\\model_segmentation.h5'\n",
    "model.load_weights(Path_to_weights)"
   ]
  },
  {
   "cell_type": "code",
   "execution_count": 7,
   "metadata": {},
   "outputs": [],
   "source": [
    "def get_prediction(model, sumple):\n",
    "    return model.predict(sumple, verbose=1)\n",
    "\n",
    "def get_origin_mask(imgMatrixRead, mask_path, point, sample_size):\n",
    "    return point_sumple.get_sumple_of_point([mask_path], point, imgMatrixRead, sample_size)\n",
    "\n",
    "def get_mask(pred, threshold):\n",
    "    pred[pred < threshold] = 0.0\n",
    "    pred[pred > 0.0] = 1.0\n",
    "    return pred\n",
    "\n",
    "path = lst_path[0]\n",
    "imgMatrixRead  = point_sumple.ImgMatrixRead(lst_path, mask_path)\n",
    "imgcord = point_sumple.Imgcord(imgMatrixRead) # point_lat_lon = (55.514385, 9.818952)\n",
    "#print(imgcord.latlon_to_pix(55.493677, 9.890756))"
   ]
  },
  {
   "cell_type": "code",
   "execution_count": 8,
   "metadata": {},
   "outputs": [],
   "source": [
    "#sumple = point_sumple.get_sumple_of_point(lst_path,(5173, 4770),imgMatrixRead, sample_size)\n",
    "#mask = get_origin_mask(imgMatrixRead, mask_path, (5173, 4770), sample_size)\n",
    "#pred = get_prediction(model, np.array([sumple]))\n",
    "##print(type(pred[0][0][0][0])) # 'numpy.float32'\n",
    "#pred1 = get_mask(pred, 0.1)"
   ]
  },
  {
   "cell_type": "code",
   "execution_count": 9,
   "metadata": {},
   "outputs": [],
   "source": [
    "#plt.imshow(sumple[:,:,0])\n",
    "#plt.show()\n",
    "#plt.imshow(sumple[:,:,1])\n",
    "#plt.show()\n",
    "#plt.imshow(sumple[:,:,2])\n",
    "#plt.show()\n",
    "#plt.imshow(sumple[:,:,3])\n",
    "#plt.show()\n",
    "#plt.imshow(sumple[:,:,4])\n",
    "#plt.show()\n",
    "#plt.imshow(sumple[:,:,5])\n",
    "#plt.show()\n",
    "#plt.imshow(sumple[:,:,6])\n",
    "#plt.show()\n",
    "#plt.imshow(sumple[:,:,7])\n",
    "#plt.show()\n",
    "#plt.imshow(sumple[:,:,8])\n",
    "#plt.show()\n",
    "#plt.imshow(sumple[:,:,9])\n",
    "#plt.show()\n",
    "#plt.imshow(sumple[:,:,10])\n",
    "#plt.show()\n",
    "#plt.imshow(sumple[:,:,11])\n",
    "#plt.show()\n",
    "#print(\"#############################\")\n",
    "#plt.imshow(np.array([mask])[0][:,:,0])\n",
    "#plt.show()\n",
    "#plt.imshow(pred1[0][:,:,0])\n",
    "#plt.show()\n",
    "#plt.imshow(pred[0][:,:,0])\n",
    "#plt.show()"
   ]
  },
  {
   "cell_type": "code",
   "execution_count": 10,
   "metadata": {},
   "outputs": [],
   "source": [
    "#import cv2\n",
    "#kernel = np.ones((1,1),np.uint8)\n",
    "#erosion = cv2.erode(pred[0],kernel,iterations = 1)\n",
    "#closing = cv2.morphologyEx(erosion, cv2.MORPH_CLOSE, kernel)"
   ]
  },
  {
   "cell_type": "code",
   "execution_count": 11,
   "metadata": {},
   "outputs": [],
   "source": [
    "#plt.imshow(erosion)\n",
    "#plt.show()"
   ]
  },
  {
   "cell_type": "code",
   "execution_count": 12,
   "metadata": {},
   "outputs": [],
   "source": [
    "#plt.imshow(np.array([mask])[0][:,:,0])\n",
    "#plt.show()"
   ]
  },
  {
   "cell_type": "code",
   "execution_count": 13,
   "metadata": {},
   "outputs": [
    {
     "data": {
      "image/png": "[encoded data removed]",
      "text/plain": [
       "<Figure size 432x288 with 1 Axes>"
      ]
     },
     "metadata": {
      "needs_background": "light"
     },
     "output_type": "display_data"
    }
   ],
   "source": [
    "point_lat_lon = (55.457873, 9.908699)\n",
    "point_glob_pix = pointsOfFild.get_glob_cord_pix(imgcord, point_lat_lon)\n",
    "pred, imgcord = pointsOfFild.new_mask(point_glob_pix, imgMatrixRead, imgcord, model, sample_size, True)\n",
    "plt.imshow(pred[:,:,0])\n",
    "plt.show()\n",
    "lst_lat_lon = recursion.get_points_of_fild(point_lat_lon, imgMatrixRead, imgcord, model, sample_size, True)\n",
    "#print(lst_lat_lon)   "
   ]
  },
  {
   "cell_type": "code",
   "execution_count": 22,
   "metadata": {},
   "outputs": [],
   "source": [
    "import break_line\n",
    "point_glob_pix = pointsOfFild.get_glob_cord_pix(imgcord, point_lat_lon)\n",
    "lst_lat_lon = pointsOfFild.get_points_of_fild(point_lat_lon, imgMatrixRead, imgcord, model, sample_size, True)\n",
    "lst_pix = pointsOfFild.get_pix_local(lst_lat_lon, imgcord, sample_size)"
   ]
  },
  {
   "cell_type": "code",
   "execution_count": 25,
   "metadata": {},
   "outputs": [
    {
     "data": {
      "image/png": "[encoded data removed]",
      "text/plain": [
       "<Figure size 432x288 with 1 Axes>"
      ]
     },
     "metadata": {
      "needs_background": "light"
     },
     "output_type": "display_data"
    }
   ],
   "source": [
    "def demonstrate(mask, lst):\n",
    "    mask = mask[:,:,0]\n",
    "    for i in lst:\n",
    "        mask[i[0]][i[1]] = 1.0\n",
    "    plt.imshow(mask)\n",
    "    plt.show()    \n"
   ]
  },
  {
   "cell_type": "code",
   "execution_count": 21,
   "metadata": {},
   "outputs": [
    {
     "name": "stdout",
     "output_type": "stream",
     "text": [
      "(5392, 5748)\n"
     ]
    },
    {
     "data": {
      "image/png": "[encoded data removed]",
      "text/plain": [
       "<Figure size 432x288 with 1 Axes>"
      ]
     },
     "metadata": {
      "needs_background": "light"
     },
     "output_type": "display_data"
    }
   ],
   "source": [
    "#point_lat_lon = (55.476321, 9.837827)\n",
    "#lst_lat_lon = recursion.get_points_of_fild(point_lat_lon, imgMatrixRead, imgcord, model, sample_size, True)\n",
    "point_glob_pix = pointsOfFild.get_glob_cord_pix(imgcord, point_lat_lon)\n",
    "print(point_glob_pix)\n",
    "#lst_pix = pointsOfFild.get_pix_local(lst_lat_lon, imgcord, sample_size)\n",
    "#pred, imgcord = pointsOfFild.new_mask(point_glob_pix, imgMatrixRead, imgcord, model, sample_size, True)  \n",
    "demonstrate(pred, lst_pix)"
   ]
  },
  {
   "cell_type": "code",
   "execution_count": null,
   "metadata": {},
   "outputs": [],
   "source": [
    "pd.DataFrame(data={'xcord':list(map(lambda x:x[0],lst_lat_lon)),\n",
    "                   'ycord':list(map(lambda x:x[1],lst_lat_lon))}).to_csv(\"sample1.csv\")"
   ]
  },
  {
   "cell_type": "code",
   "execution_count": null,
   "metadata": {},
   "outputs": [],
   "source": []
  },
  {
   "cell_type": "code",
   "execution_count": null,
   "metadata": {},
   "outputs": [],
   "source": []
  },
  {
   "cell_type": "code",
   "execution_count": null,
   "metadata": {},
   "outputs": [],
   "source": []
  },
  {
   "cell_type": "code",
   "execution_count": null,
   "metadata": {},
   "outputs": [],
   "source": []
  },
  {
   "cell_type": "code",
   "execution_count": null,
   "metadata": {},
   "outputs": [],
   "source": []
  },
  {
   "cell_type": "code",
   "execution_count": null,
   "metadata": {},
   "outputs": [],
   "source": []
  },
  {
   "cell_type": "code",
   "execution_count": null,
   "metadata": {},
   "outputs": [],
   "source": []
  },
  {
   "cell_type": "code",
   "execution_count": null,
   "metadata": {},
   "outputs": [],
   "source": []
  },
  {
   "cell_type": "code",
   "execution_count": null,
   "metadata": {},
   "outputs": [],
   "source": [
    "##########################################\n",
    "import cv2, numpy as np\n",
    "def kernel_connecting_broken(bw, size): \n",
    "    kernel = np.ones(size, np.uint8)  # note this is a horizontal kernel\n",
    "    d_im = cv2.dilate(bw, kernel, iterations=1)\n",
    "    e_im = cv2.erode(d_im, kernel, iterations=1) \n",
    "    return e_im\n",
    "mask = kernel_connecting_broken(pred[:,:,0], (4,1)) # (1,4)\n"
   ]
  },
  {
   "cell_type": "code",
   "execution_count": null,
   "metadata": {},
   "outputs": [],
   "source": [
    "plt.imshow(mask)\n",
    "plt.show()"
   ]
  },
  {
   "cell_type": "code",
   "execution_count": null,
   "metadata": {},
   "outputs": [],
   "source": []
  },
  {
   "cell_type": "code",
   "execution_count": null,
   "metadata": {},
   "outputs": [],
   "source": []
  },
  {
   "cell_type": "code",
   "execution_count": null,
   "metadata": {},
   "outputs": [],
   "source": []
  },
  {
   "cell_type": "code",
   "execution_count": null,
   "metadata": {},
   "outputs": [],
   "source": []
  },
  {
   "cell_type": "code",
   "execution_count": null,
   "metadata": {},
   "outputs": [],
   "source": []
  },
  {
   "cell_type": "code",
   "execution_count": null,
   "metadata": {},
   "outputs": [],
   "source": []
  }
 ],
 "metadata": {
  "kernelspec": {
   "display_name": "Python 3",
   "language": "python",
   "name": "python3"
  },
  "language_info": {
   "codemirror_mode": {
    "name": "ipython",
    "version": 3
   },
   "file_extension": ".py",
   "mimetype": "text/x-python",
   "name": "python",
   "nbconvert_exporter": "python",
   "pygments_lexer": "ipython3",
   "version": "3.7.3"
  }
 },
 "nbformat": 4,
 "nbformat_minor": 2
}
